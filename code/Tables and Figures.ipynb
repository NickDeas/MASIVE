{
 "cells": [
  {
   "cell_type": "code",
   "execution_count": 1,
   "id": "b53adb57-a6e5-47b2-9b75-54e9dfc98328",
   "metadata": {},
   "outputs": [],
   "source": [
    "import pandas as pd\n",
    "import numpy as np\n",
    "from tqdm.notebook import tqdm\n",
    "tqdm.pandas()\n",
    "\n",
    "import re\n",
    "from nltk import sent_tokenize\n",
    "\n",
    "import scienceplots\n",
    "import matplotlib.pyplot as plt\n",
    "from matplotlib.patches import Patch\n",
    "\n",
    "from collections import defaultdict\n",
    "\n",
    "plt.style.use('science')"
   ]
  },
  {
   "cell_type": "markdown",
   "id": "10518c99-abca-4944-a7e6-bc0f1a87f540",
   "metadata": {
    "tags": []
   },
   "source": [
    "# Constants "
   ]
  },
  {
   "cell_type": "code",
   "execution_count": 2,
   "id": "ee14713f-d233-4a57-b092-7162ad27fc2b",
   "metadata": {},
   "outputs": [],
   "source": [
    "MODEL_RES = '../results/'"
   ]
  },
  {
   "cell_type": "code",
   "execution_count": 3,
   "id": "82c084e6-d930-44a5-b1b0-ccfb79c06171",
   "metadata": {},
   "outputs": [],
   "source": [
    "formatters = {\n",
    "    'model': '${}$\\t',\n",
    "    'dataset': '{}\\t',\n",
    "    'test_set': '${}$\\t',\n",
    "    '% valid': '{:.2f}\\\\%',\n",
    "    'nll': '{:.2f}',\n",
    "    'log_perp': '{:.2f}',\n",
    "    'acc_1': '{:.2f}\\\\%',\n",
    "    'acc_3': '{:.2f}\\\\%',\n",
    "    'acc_5': '{:.2f}\\\\%',\n",
    "    'top_1_sim': '{:.3f}',\n",
    "    'top_3_sim': '{:.3f}',\n",
    "    'top_5_sim': '{:.3f}',\n",
    "    'macro_prec': '{:.2f}',\n",
    "    'macro_rec': '{:.2f}',\n",
    "    'macro_f1': '{:.2f}',\n",
    "    'micro_prec': '{:.2f}',\n",
    "    'micro_rec': '{:.2f}',\n",
    "    'micro_f1': '{:.2f}'\n",
    "}"
   ]
  },
  {
   "cell_type": "code",
   "execution_count": 4,
   "id": "fbef486a-86e7-4738-bbcf-74708550fdb8",
   "metadata": {},
   "outputs": [],
   "source": [
    "metric_names = {\n",
    "    'model': 'Model',\n",
    "    'dataset': 'Dataset',\n",
    "    'test_set': 'Test Set',\n",
    "    '% valid': '% Valid',\n",
    "    'nll': 'NLL\\\\downarrow',\n",
    "    'log_perp': 'Log Perp\\\\downarrow',\n",
    "    'macro_prec': 'P\\\\uparrow',\n",
    "    'macro_rec': 'R\\\\uparrow', \n",
    "    'macro_f1': 'F1\\\\uparrow',\n",
    "    'micro_prec': 'P\\\\uparrow',\n",
    "    'micro_rec': 'R\\\\uparrow', \n",
    "    'micro_f1': 'F1\\\\uparrow',\n",
    "    'acc_1': 'Acc@1\\\\uparrow', \n",
    "    'acc_3': 'Acc@3\\\\uparrow',\n",
    "    'acc_5': 'Acc@5\\\\uparrow', \n",
    "    'top_1_sim': 'Sim@1\\\\uparrow', \n",
    "    'top_3_sim': 'Sim@3\\\\uparrow', \n",
    "    'top_5_sim': 'Sim@5\\\\uparrow'\n",
    "}"
   ]
  },
  {
   "cell_type": "code",
   "execution_count": 5,
   "id": "37bb57f0-b173-4565-934c-fcb36d67146a",
   "metadata": {},
   "outputs": [],
   "source": [
    "formatters = {metric_names[k]: v for k,v in formatters.items()}"
   ]
  },
  {
   "cell_type": "markdown",
   "id": "a4383140-7cc7-4600-89b8-d6f1cb5e0ad3",
   "metadata": {
    "tags": []
   },
   "source": [
    "# MASIVE Evaluation (Table 4)"
   ]
  },
  {
   "cell_type": "code",
   "execution_count": 6,
   "id": "bf218964-ba8e-46bb-a5f4-d3a7608516a1",
   "metadata": {},
   "outputs": [],
   "source": [
    "models = ['en_masive_t5_large', \n",
    "          'en_masive_mt5_large',\n",
    "          'Meta-Llama-3-8B-Instruct_en',\n",
    "          'mixtral-8x22b-instruct_en',          \n",
    "          'es_masive_mt5_large',\n",
    "          'Meta-Llama-3-8B-Instruct_es',\n",
    "          'mixtral-8x22b-instruct_es']\n",
    "model_names = ['T5^{En}', \n",
    "               'mT5^{En}', \n",
    "               'Llama-3', \n",
    "               'Mixtral', \n",
    "               'mT5^{Es}', \n",
    "               'Llama-3', \n",
    "               'Mixtral']"
   ]
  },
  {
   "cell_type": "code",
   "execution_count": 7,
   "id": "88f785bc-293c-4e48-9811-07256a105953",
   "metadata": {},
   "outputs": [],
   "source": [
    "metrics = ['nll', 'log_perp', 'acc_1', 'acc_3', 'acc_5', 'top_1_sim', 'top_3_sim', 'top_5_sim']\n",
    "scale_metrics = ['acc_1', 'acc_3', 'acc_5']"
   ]
  },
  {
   "cell_type": "code",
   "execution_count": 8,
   "id": "6162c9d4-1d9c-47db-b2bd-4db6986b93db",
   "metadata": {},
   "outputs": [],
   "source": [
    "all_scores = [pd.read_csv(f'{MODEL_RES}/{model}/internal/metrics.csv') for model in models]\n",
    "all_scores = pd.concat(all_scores)\n",
    "all_scores['Model'] = model_names\n",
    "all_scores = all_scores[['Model'] + metrics]\n",
    "all_scores[scale_metrics] = all_scores[scale_metrics]*100\n",
    "all_scores = all_scores.rename(metric_names, axis = 1)"
   ]
  },
  {
   "cell_type": "code",
   "execution_count": 9,
   "id": "e3553bdd-5a6b-47e0-8215-9f4e7820f169",
   "metadata": {},
   "outputs": [],
   "source": [
    "all_scores = all_scores.style.format(formatters).hide(axis=0)"
   ]
  },
  {
   "cell_type": "code",
   "execution_count": 10,
   "id": "99b100ca-f13e-46fd-be40-f50b5a6550ab",
   "metadata": {},
   "outputs": [
    {
     "name": "stdout",
     "output_type": "stream",
     "text": [
      "\\begin{tabular}{lrrrrrrrr}\n",
      "Model & NLL\\downarrow & Log Perp\\downarrow & Acc@1\\uparrow & Acc@3\\uparrow & Acc@5\\uparrow & Sim@1\\uparrow & Sim@3\\uparrow & Sim@5\\uparrow \\\\\n",
      "$T5^{En}$\t & 6.87 & 6.85 & 20.05\\% & 29.44\\% & 34.64\\% & 0.569 & 0.673 & 0.718 \\\\\n",
      "$mT5^{En}$\t & 10.93 & 10.90 & 17.91\\% & 26.81\\% & 30.90\\% & 0.564 & 0.670 & 0.711 \\\\\n",
      "$Llama-3$\t & 60.79 & 44.84 & 1.29\\% & 2.26\\% & 2.92\\% & 0.431 & 0.460 & 0.475 \\\\\n",
      "$Mixtral$\t & 1.52 & nan & 7.83\\% & 8.93\\% & 10.55\\% & 0.475 & 0.495 & 0.518 \\\\\n",
      "$mT5^{Es}$\t & 6.91 & 6.89 & 24.51\\% & 36.16\\% & 41.23\\% & 0.610 & 0.734 & 0.781 \\\\\n",
      "$Llama-3$\t & 77.78 & 61.56 & 2.52\\% & 4.69\\% & 5.91\\% & 0.445 & 0.480 & 0.498 \\\\\n",
      "$Mixtral$\t & 1.47 & nan & 16.80\\% & 19.47\\% & 22.24\\% & 0.525 & 0.553 & 0.583 \\\\\n",
      "\\end{tabular}\n",
      "\n"
     ]
    }
   ],
   "source": [
    "print(all_scores.to_latex())"
   ]
  },
  {
   "cell_type": "markdown",
   "id": "fba4162e-ae57-455a-af5d-37d8c107c031",
   "metadata": {
    "tags": []
   },
   "source": [
    "# External Eval (Table 5) "
   ]
  },
  {
   "cell_type": "code",
   "execution_count": 11,
   "id": "63154f5b-2c2b-4488-8311-191b49930196",
   "metadata": {},
   "outputs": [],
   "source": [
    "models = ['mt5_large_goemo', 'en_masive_mt5_large_goemo',\n",
    "          'mt5_large_goemo_full', 'en_masive_mt5_large_goemo_full',\n",
    "          'mt5_large_emoevent_en', 'en_masive_mt5_large_emoevent_en',\n",
    "          'mt5_large_emoevent_es', 'es_masive_mt5_large_emoevent_es'\n",
    "         ]\n",
    "model_names = ['mT5^{En}', \n",
    "               'mT5^{MAS}', \n",
    "               'mT5^{En}', \n",
    "               'mT5^{MAS}', \n",
    "               'mT5^{En}', \n",
    "               'mT5^{MAS}', \n",
    "               'mT5^{Es}', \n",
    "               'mT5^{MAS}']\n",
    "dss    = ['goemo', 'goemo',\n",
    "          'goemo_full', 'goemo_full',\n",
    "          'emoevent_en', 'emoevent_en',\n",
    "          'emoevent_es', 'emoevent_es'\n",
    "         ]\n",
    "ds_names = ['GoEmotions (7)', 'GoEmotions (7)',\n",
    "            'GoEmotions (27)', 'GoEmotions (27)',\n",
    "            'EmoEvent (En)', 'EmoEvent (En)',\n",
    "            'EmoEvent (Es)', 'EmoEvent (Es)']"
   ]
  },
  {
   "cell_type": "code",
   "execution_count": 12,
   "id": "affb9c48-0bb8-45c7-a1f2-43649ba4bcfa",
   "metadata": {},
   "outputs": [],
   "source": [
    "metrics = ['macro_prec', 'macro_rec', 'macro_f1', 'acc_1', 'acc_3', 'acc_5', 'top_1_sim', 'top_3_sim', 'top_5_sim']\n",
    "scale_metrics = ['macro_prec', 'macro_rec', 'macro_f1', 'acc_1', 'acc_3', 'acc_5']"
   ]
  },
  {
   "cell_type": "code",
   "execution_count": 13,
   "id": "cb0e3bc2-2f13-45e9-bfbf-48c429732314",
   "metadata": {},
   "outputs": [],
   "source": [
    "all_scores = [pd.read_csv(f'{MODEL_RES}/{model}/external/{ds}/metrics.csv') for model, ds in zip(models, dss)]\n",
    "all_scores = pd.concat(all_scores)\n",
    "all_scores['model'] = model_names\n",
    "all_scores['dataset'] = ds_names\n",
    "all_scores = all_scores[['dataset', 'model'] + metrics]\n",
    "all_scores[scale_metrics] = all_scores[scale_metrics]*100\n",
    "all_scores = all_scores.rename(metric_names, axis = 1)"
   ]
  },
  {
   "cell_type": "code",
   "execution_count": 14,
   "id": "bc5f6d22-7bad-4cc0-aa2e-6048b6b9cf2f",
   "metadata": {},
   "outputs": [],
   "source": [
    "all_scores = all_scores.style.format(formatters).hide(axis=0)"
   ]
  },
  {
   "cell_type": "code",
   "execution_count": 15,
   "id": "055c6ffb-b27c-404f-b6e6-70acf8255b72",
   "metadata": {},
   "outputs": [
    {
     "name": "stdout",
     "output_type": "stream",
     "text": [
      "\\begin{tabular}{llrrrrrrrrr}\n",
      "Dataset & Model & P\\uparrow & R\\uparrow & F1\\uparrow & Acc@1\\uparrow & Acc@3\\uparrow & Acc@5\\uparrow & Sim@1\\uparrow & Sim@3\\uparrow & Sim@5\\uparrow \\\\\n",
      "GoEmotions (7)\t & $mT5^{En}$\t & 33.63 & 19.28 & 16.25 & 38.49\\% & 70.73\\% & 85.99\\% & 0.736 & 0.884 & 0.946 \\\\\n",
      "GoEmotions (7)\t & $mT5^{MAS}$\t & 33.06 & 39.81 & 28.30 & 17.49\\% & 32.11\\% & 39.25\\% & 0.629 & 0.733 & 0.771 \\\\\n",
      "GoEmotions (27)\t & $mT5^{En}$\t & 12.57 & 4.77 & 2.24 & 2.53\\% & 12.90\\% & 23.51\\% & 0.525 & 0.614 & 0.670 \\\\\n",
      "GoEmotions (27)\t & $mT5^{MAS}$\t & 27.08 & 18.76 & 11.92 & 7.54\\% & 12.22\\% & 15.16\\% & 0.508 & 0.602 & 0.639 \\\\\n",
      "EmoEvent (En)\t & $mT5^{En}$\t & 30.06 & 14.36 & 2.84 & 10.50\\% & 71.70\\% & 93.64\\% & 0.630 & 0.880 & 0.974 \\\\\n",
      "EmoEvent (En)\t & $mT5^{MAS}$\t & 34.81 & 32.74 & 29.55 & 33.40\\% & 57.06\\% & 69.38\\% & 0.712 & 0.842 & 0.893 \\\\\n",
      "EmoEvent (Es)\t & $mT5^{Es}$\t & 26.13 & 14.52 & 6.41 & 24.29\\% & 70.34\\% & 89.12\\% & 0.713 & 0.882 & 0.955 \\\\\n",
      "EmoEvent (Es)\t & $mT5^{MAS}$\t & 54.93 & 21.54 & 17.80 & 39.75\\% & 82.62\\% & 86.11\\% & 0.750 & 0.918 & 0.935 \\\\\n",
      "\\end{tabular}\n",
      "\n"
     ]
    }
   ],
   "source": [
    "print(all_scores.to_latex())"
   ]
  },
  {
   "cell_type": "markdown",
   "id": "00ccdd53-ecce-4e58-bba3-efb18e00d88d",
   "metadata": {
    "tags": []
   },
   "source": [
    "# Unseen Affective States (Table 6) "
   ]
  },
  {
   "cell_type": "code",
   "execution_count": 16,
   "id": "b222c998-d441-4b74-b546-c53757f42d54",
   "metadata": {},
   "outputs": [],
   "source": [
    "models = ['en_masive_t5_large', \n",
    "          'en_masive_mt5_large',         \n",
    "          'es_masive_mt5_large']\n",
    "model_names = ['T5^{En}', \n",
    "               'mT5^{En}', \n",
    "               'mT5^{Es}']\n",
    "langs = ['En', 'En', 'Es']"
   ]
  },
  {
   "cell_type": "code",
   "execution_count": 17,
   "id": "24ae5889-9348-429b-b15e-0a75bdb36921",
   "metadata": {},
   "outputs": [],
   "source": [
    "metrics = ['nll', 'log_perp', 'acc_1', 'acc_3', 'acc_5', 'top_1_sim', 'top_3_sim', 'top_5_sim']\n",
    "scale_metrics = ['acc_1', 'acc_3', 'acc_5']"
   ]
  },
  {
   "cell_type": "code",
   "execution_count": 18,
   "id": "a75bbcc9-1673-4a38-8bd5-0199928ea044",
   "metadata": {},
   "outputs": [],
   "source": [
    "all_preds = [pd.read_csv(f'{MODEL_RES}/{model}/internal/preds.csv') for model in models]\n",
    "en_test = pd.read_csv(f'../masive/en/test.csv')\n",
    "es_test = pd.read_csv(f'../masive/es/test.csv')"
   ]
  },
  {
   "cell_type": "code",
   "execution_count": 19,
   "id": "a353250b-cca2-4e74-93cc-38fc7704aca2",
   "metadata": {},
   "outputs": [],
   "source": [
    "all_preds = [pred.merge(en_test[['id', 'challenge']] if lang == 'En' else es_test[['id', 'challenge']], on = 'id') for pred, lang in zip(all_preds, langs)]"
   ]
  },
  {
   "cell_type": "code",
   "execution_count": 20,
   "id": "7c616b65-e811-4bec-afde-44e939520474",
   "metadata": {},
   "outputs": [],
   "source": [
    "all_scores = defaultdict(list)\n",
    "for pred, model_name, lang in zip(all_preds, model_names, langs):\n",
    "    all_scores['lang'] += [lang] * 2\n",
    "    all_scores['model'] += [model_name] * 2\n",
    "    all_scores['subset'] += ['Seen', 'Unseen']\n",
    "    \n",
    "    challenge_sub = pred[pred['challenge']]\n",
    "    nonchallenge_sub = pred[~pred['challenge']]\n",
    "    for metric in metrics:\n",
    "        all_scores[metric].append(nonchallenge_sub[metric].mean())\n",
    "        all_scores[metric].append(challenge_sub[metric].mean())"
   ]
  },
  {
   "cell_type": "code",
   "execution_count": 21,
   "id": "f45c8e39-9dca-4d52-8b44-6e9165633826",
   "metadata": {},
   "outputs": [],
   "source": [
    "all_scores = pd.DataFrame(all_scores)\n",
    "all_scores[scale_metrics] = all_scores[scale_metrics]*100\n",
    "all_scores = all_scores.rename(metric_names, axis = 1)"
   ]
  },
  {
   "cell_type": "code",
   "execution_count": 22,
   "id": "48393277-ce3a-4ab6-8e5a-1cd906fe2369",
   "metadata": {},
   "outputs": [],
   "source": [
    "all_scores = all_scores.style.format(formatters).hide(axis=0)"
   ]
  },
  {
   "cell_type": "code",
   "execution_count": 23,
   "id": "be811583-68bb-41c4-b8d8-1298532e9bd0",
   "metadata": {},
   "outputs": [
    {
     "name": "stdout",
     "output_type": "stream",
     "text": [
      "\\begin{tabular}{lllrrrrrrrr}\n",
      "lang & Model & subset & NLL\\downarrow & Log Perp\\downarrow & Acc@1\\uparrow & Acc@3\\uparrow & Acc@5\\uparrow & Sim@1\\uparrow & Sim@3\\uparrow & Sim@5\\uparrow \\\\\n",
      "En & $T5^{En}$\t & Seen & 3.64 & 3.62 & 35.22\\% & 50.31\\% & 57.70\\% & 0.640 & 0.756 & 0.805 \\\\\n",
      "En & $T5^{En}$\t & Unseen & 10.52 & 10.49 & 2.92\\% & 5.88\\% & 8.61\\% & 0.488 & 0.579 & 0.620 \\\\\n",
      "En & $mT5^{En}$\t & Seen & 3.77 & 3.75 & 32.85\\% & 48.90\\% & 56.13\\% & 0.633 & 0.757 & 0.804 \\\\\n",
      "En & $mT5^{En}$\t & Unseen & 19.01 & 18.98 & 1.04\\% & 1.88\\% & 2.41\\% & 0.487 & 0.571 & 0.607 \\\\\n",
      "Es & $mT5^{Es}$\t & Seen & 3.36 & 3.34 & 37.89\\% & 55.48\\% & 62.63\\% & 0.654 & 0.779 & 0.825 \\\\\n",
      "Es & $mT5^{Es}$\t & Unseen & 13.09 & 13.07 & 1.18\\% & 2.44\\% & 3.88\\% & 0.532 & 0.655 & 0.704 \\\\\n",
      "\\end{tabular}\n",
      "\n"
     ]
    }
   ],
   "source": [
    "print(all_scores.to_latex())"
   ]
  },
  {
   "cell_type": "markdown",
   "id": "b2a0d936-c55d-4654-b021-580d92ea5e21",
   "metadata": {
    "tags": []
   },
   "source": [
    "# Regional Spanish Varieties (Table 7) "
   ]
  },
  {
   "cell_type": "code",
   "execution_count": 24,
   "id": "a4e1f62d-c35b-47a2-9a22-486ed64831d6",
   "metadata": {},
   "outputs": [],
   "source": [
    "models = ['es_masive_mt5_large',\n",
    "          'Meta-Llama-3-8B-Instruct_es_reg',\n",
    "          'mixtral-8x22b-instruct_es_reg'\n",
    "         ]\n",
    "model_names = ['mT5^{Es}',\n",
    "               'Llama-3',\n",
    "               'Mixtral'\n",
    "              ]"
   ]
  },
  {
   "cell_type": "code",
   "execution_count": 25,
   "id": "04379fa9-0b84-4c43-b7c5-17869c7358a5",
   "metadata": {},
   "outputs": [],
   "source": [
    "metrics = ['nll', 'log_perp', 'acc_1', 'acc_3', 'acc_5', 'top_1_sim', 'top_3_sim', 'top_5_sim']\n",
    "scale_metrics = ['acc_1', 'acc_3', 'acc_5']"
   ]
  },
  {
   "cell_type": "code",
   "execution_count": 26,
   "id": "f9571277-6edf-49c6-9710-9fcf45cf1326",
   "metadata": {},
   "outputs": [],
   "source": [
    "all_scores = [pd.read_csv(f'{MODEL_RES}/{model}/internal/regional/metrics.csv') for model in models]\n",
    "all_scores = pd.concat(all_scores)\n",
    "all_scores['model'] = model_names\n",
    "all_scores = all_scores[['model'] + metrics]\n",
    "all_scores[scale_metrics] = all_scores[scale_metrics]*100\n",
    "all_scores = all_scores.rename(metric_names, axis = 1)"
   ]
  },
  {
   "cell_type": "code",
   "execution_count": 27,
   "id": "81ba8997-a069-44b4-adb1-ee4ac337b7a1",
   "metadata": {},
   "outputs": [],
   "source": [
    "all_scores = all_scores.style.format(formatters).hide(axis=0)"
   ]
  },
  {
   "cell_type": "code",
   "execution_count": 28,
   "id": "920d2065-191a-41d9-8913-88ba68f414dc",
   "metadata": {},
   "outputs": [
    {
     "name": "stdout",
     "output_type": "stream",
     "text": [
      "\\begin{tabular}{lrrrrrrrr}\n",
      "Model & NLL\\downarrow & Log Perp\\downarrow & Acc@1\\uparrow & Acc@3\\uparrow & Acc@5\\uparrow & Sim@1\\uparrow & Sim@3\\uparrow & Sim@5\\uparrow \\\\\n",
      "$mT5^{Es}$\t & 12.31 & 12.31 & 14.07\\% & 25.31\\% & 31.37\\% & 0.462 & 0.585 & 0.635 \\\\\n",
      "$Llama-3$\t & 69.96 & 54.00 & 0.00\\% & 0.00\\% & 0.00\\% & 0.376 & 0.408 & 0.416 \\\\\n",
      "$Mixtral$\t & 1.55 & nan & 0.04\\% & 0.16\\% & 0.38\\% & 0.342 & 0.358 & 0.372 \\\\\n",
      "\\end{tabular}\n",
      "\n"
     ]
    }
   ],
   "source": [
    "print(all_scores.to_latex())"
   ]
  },
  {
   "cell_type": "markdown",
   "id": "87253c42-6329-45d7-a784-6a9795fc06fa",
   "metadata": {
    "tags": []
   },
   "source": [
    "# Linguistic Constructions "
   ]
  },
  {
   "cell_type": "markdown",
   "id": "f73ec3a6-f450-42f2-b185-71b4c7f30f1d",
   "metadata": {
    "tags": []
   },
   "source": [
    "## Functions "
   ]
  },
  {
   "cell_type": "code",
   "execution_count": 29,
   "id": "bc730c24-da4c-4a88-8e51-4d06cf62547f",
   "metadata": {},
   "outputs": [],
   "source": [
    "def get_gender(trg):\n",
    "    trg = re.sub(r'\\<extra_id_\\d+\\>|\\<s\\>|\\</s\\>|[^\\w\\s]+', '', trg).strip()\n",
    "    labels = [t for t in trg.split(' ') if t != '']\n",
    "    # print(labels)\n",
    "    fem, masc = False, False\n",
    "    for label in labels:\n",
    "        if label[-1] == 'a' or label[-2:] == 'as':\n",
    "            fem = True\n",
    "        elif label[-1] == 'o' or label[-2:] == 'os':\n",
    "            masc = True\n",
    "    if fem:\n",
    "        return 'fem'\n",
    "    elif masc:\n",
    "        return 'masc'\n",
    "    else:\n",
    "        return 'neut'\n",
    "\n",
    "def gender_results(dfs, models):\n",
    "    all_res = []\n",
    "    for df, model in zip(dfs, models):\n",
    "        df['gender'] = df['gold'].progress_apply(get_gender)\n",
    "        df[metrics] = df[metrics].astype(float)\n",
    "        df = df[df['log_perp'] != np.inf]\n",
    "        for gender in ['fem', 'masc', 'neut']:\n",
    "            sub_res = df[df['gender'] == gender][metrics].mean(skipna = True, numeric_only = True).to_dict()\n",
    "            sub_res['gender'] = gender\n",
    "            sub_res['model']  = model\n",
    "            sub_res['size']   = len(df[df['gender'] == gender])\n",
    "\n",
    "            all_res.append(sub_res)\n",
    "    all_res = pd.DataFrame(all_res)\n",
    "    all_res = all_res[['model', 'gender', 'size'] + all_res.columns[:-3].tolist()]\n",
    "    return all_res"
   ]
  },
  {
   "cell_type": "code",
   "execution_count": 30,
   "id": "6c2deea4-9994-4c02-8e6f-18eb813235b2",
   "metadata": {},
   "outputs": [],
   "source": [
    "negs_en = r'\\bnot\\b|\\bn\\'t\\b|\\bno\\b'\n",
    "negs_es = r'\\bno\\b'\n",
    "def is_negated(text, lang = 'en'):\n",
    "    found_something = False\n",
    "    for sent in sent_tokenize(text.replace('...', '_ELLIPSIS').replace('\\n', ' ')):\n",
    "        subsents = re.findall(r'.*(?=\\<extra_id_\\d+\\>)', sent)\n",
    "        if len(subsents) == 0:\n",
    "            continue\n",
    "        else:\n",
    "            found_something = True\n",
    "        \n",
    "        if lang == 'en':\n",
    "            for subsent in subsents:\n",
    "                if len(re.findall(negs_en, subsent, re.IGNORECASE)) > 0:\n",
    "                    return True\n",
    "        elif lang == 'es':\n",
    "            for subsent in subsents:\n",
    "                if len(re.findall(negs_es, subsent, re.IGNORECASE)) > 0:\n",
    "                    return True\n",
    "    if not found_something:\n",
    "        print('Uh oh')\n",
    "        print(text)\n",
    "        raise ValueError()\n",
    "    return False\n",
    "\n",
    "def negated_results(dfs, langs, models):\n",
    "    all_res = []\n",
    "    for df, lang, model in zip(dfs, langs, models):\n",
    "        df['negated'] = df['input'].progress_apply(lambda t: is_negated(t, lang = lang))\n",
    "        df = df[df['log_perp'] != np.inf]\n",
    "        df[metrics] = df[metrics].astype(float)\n",
    "        \n",
    "        neg_res = df[df['negated']][metrics].astype(float).mean(skipna = True, numeric_only = True).to_dict()\n",
    "        neg_res['neg'] = 'neg'\n",
    "        neg_res['model'] = model\n",
    "        neg_res['lang'] = lang\n",
    "        neg_res['size'] = len(neg_res)\n",
    "        \n",
    "        nneg_res = df[~df['negated']][metrics].astype(float).mean(skipna = True, numeric_only = True).to_dict()\n",
    "        nneg_res['neg'] = 'non_neg'\n",
    "        nneg_res['model'] = model\n",
    "        nneg_res['lang'] = lang\n",
    "        nneg_res['size'] = len(nneg_res)\n",
    "        \n",
    "        all_res.append(neg_res)\n",
    "        all_res.append(nneg_res)\n",
    "    all_res = pd.DataFrame(all_res)\n",
    "    all_res = all_res[['model', 'lang', 'neg', 'size'] + all_res.columns[:-4].tolist()]\n",
    "    return all_res"
   ]
  },
  {
   "cell_type": "markdown",
   "id": "59244d50-e967-4d1f-9114-47626827a71d",
   "metadata": {
    "tags": []
   },
   "source": [
    "## Negations "
   ]
  },
  {
   "cell_type": "code",
   "execution_count": 31,
   "id": "5af9b841-58eb-4cab-be72-68d7204b3663",
   "metadata": {},
   "outputs": [],
   "source": [
    "BASE_DIR = '../results/'\n",
    "models   = ['en_masive_t5_large', \n",
    "            'en_masive_mt5_large', \n",
    "            'Meta-Llama-3-8B-Instruct_en', \n",
    "            'mixtral-8x22b-instruct_en', \n",
    "            'es_masive_mt5_large', \n",
    "            'Meta-Llama-3-8B-Instruct_es', \n",
    "            'mixtral-8x22b-instruct_es']\n",
    "model_names = ['T5', \n",
    "               'mT5', \n",
    "               'Llama-3', \n",
    "               'Mixtral', \n",
    "               'mT5', \n",
    "               'Llama-3', \n",
    "               'Mixtral']\n",
    "all_preds = [pd.read_csv(BASE_DIR + model + '/internal/preds.csv') for model in models]\n",
    "langs = ['en', 'en', \n",
    "         'en', \n",
    "         'en', \n",
    "         'es', 'es', 'es']"
   ]
  },
  {
   "cell_type": "code",
   "execution_count": 32,
   "id": "26f6d77f-890a-4540-b64b-d43a68c50819",
   "metadata": {},
   "outputs": [],
   "source": [
    "en = pd.read_csv('../masive/en/test.csv')\n",
    "es = pd.read_csv('../masive/es/test.csv')"
   ]
  },
  {
   "cell_type": "code",
   "execution_count": 33,
   "id": "8bb68810-25b9-4478-8058-45e3b592ad96",
   "metadata": {},
   "outputs": [
    {
     "data": {
      "application/vnd.jupyter.widget-view+json": {
       "model_id": "d1c075e14b92401ab7d2128915164e2c",
       "version_major": 2,
       "version_minor": 0
      },
      "text/plain": [
       "  0%|          | 0/10049 [00:00<?, ?it/s]"
      ]
     },
     "metadata": {},
     "output_type": "display_data"
    },
    {
     "data": {
      "application/vnd.jupyter.widget-view+json": {
       "model_id": "c4067d1b88b544e195848188237deb17",
       "version_major": 2,
       "version_minor": 0
      },
      "text/plain": [
       "  0%|          | 0/4274 [00:00<?, ?it/s]"
      ]
     },
     "metadata": {},
     "output_type": "display_data"
    }
   ],
   "source": [
    "en['is_negated'] = en['input'].progress_apply(is_negated)\n",
    "es['is_negated'] = es['input'].progress_apply(lambda t: is_negated(t, lang = 'es'))"
   ]
  },
  {
   "cell_type": "code",
   "execution_count": 34,
   "id": "f54536de-967a-4d5a-bd31-622705be849c",
   "metadata": {},
   "outputs": [],
   "source": [
    "for i, (pred, lang) in enumerate(zip(all_preds, langs)):\n",
    "    if 'log_perp' not in pred.columns:\n",
    "        all_preds[i]['log_perp'] = np.nan\n",
    "    \n",
    "    all_preds[i] = all_preds[i].dropna(subset = 'input').reset_index(drop = True)\n",
    "    all_preds[i] = all_preds[i].drop('input', axis = 1)\n",
    "    \n",
    "    if lang == 'en':\n",
    "        all_preds[i]['id'] = en['id']\n",
    "        all_preds[i]['input'] = en['clip_input']\n",
    "    elif lang == 'es':\n",
    "        all_preds[i]['id'] = es['id']\n",
    "        all_preds[i]['input'] = es['clip_input']"
   ]
  },
  {
   "cell_type": "code",
   "execution_count": 35,
   "id": "083d8e13-8392-429d-84a9-80fc1fd4a8a8",
   "metadata": {},
   "outputs": [
    {
     "data": {
      "application/vnd.jupyter.widget-view+json": {
       "model_id": "60cf83668ab3423391ad5877db30a1f8",
       "version_major": 2,
       "version_minor": 0
      },
      "text/plain": [
       "  0%|          | 0/10049 [00:00<?, ?it/s]"
      ]
     },
     "metadata": {},
     "output_type": "display_data"
    },
    {
     "data": {
      "application/vnd.jupyter.widget-view+json": {
       "model_id": "f7f50f49ca6a46d0862e012659e1ea7f",
       "version_major": 2,
       "version_minor": 0
      },
      "text/plain": [
       "  0%|          | 0/10049 [00:00<?, ?it/s]"
      ]
     },
     "metadata": {},
     "output_type": "display_data"
    },
    {
     "data": {
      "application/vnd.jupyter.widget-view+json": {
       "model_id": "d7d0a44d873e452982cd4a2c2bf03034",
       "version_major": 2,
       "version_minor": 0
      },
      "text/plain": [
       "  0%|          | 0/10049 [00:00<?, ?it/s]"
      ]
     },
     "metadata": {},
     "output_type": "display_data"
    },
    {
     "data": {
      "application/vnd.jupyter.widget-view+json": {
       "model_id": "d70966aecbd540eb864089887cee0280",
       "version_major": 2,
       "version_minor": 0
      },
      "text/plain": [
       "  0%|          | 0/10049 [00:00<?, ?it/s]"
      ]
     },
     "metadata": {},
     "output_type": "display_data"
    },
    {
     "data": {
      "application/vnd.jupyter.widget-view+json": {
       "model_id": "f858bc7f7ea341b68e4fa2e70cc9c62d",
       "version_major": 2,
       "version_minor": 0
      },
      "text/plain": [
       "  0%|          | 0/4274 [00:00<?, ?it/s]"
      ]
     },
     "metadata": {},
     "output_type": "display_data"
    },
    {
     "data": {
      "application/vnd.jupyter.widget-view+json": {
       "model_id": "836d3d28ef37427296b39364604c97ee",
       "version_major": 2,
       "version_minor": 0
      },
      "text/plain": [
       "  0%|          | 0/4274 [00:00<?, ?it/s]"
      ]
     },
     "metadata": {},
     "output_type": "display_data"
    },
    {
     "data": {
      "application/vnd.jupyter.widget-view+json": {
       "model_id": "3f6a18dee9594426874f1f386b8a9a85",
       "version_major": 2,
       "version_minor": 0
      },
      "text/plain": [
       "  0%|          | 0/4274 [00:00<?, ?it/s]"
      ]
     },
     "metadata": {},
     "output_type": "display_data"
    }
   ],
   "source": [
    "neg_res = negated_results(all_preds, langs, model_names)"
   ]
  },
  {
   "cell_type": "code",
   "execution_count": 36,
   "id": "fe0228b3-70c8-4cf6-b642-198512a73fed",
   "metadata": {},
   "outputs": [],
   "source": [
    "metrics = ['nll', 'log_perp', 'acc_1', 'acc_3', 'acc_5', 'top_1_sim', 'top_3_sim', 'top_5_sim']\n",
    "mults   = [1, 1, 100, 100, 100, 1, 1, 1]\n",
    "formats = ['{:.2f}', '{:.2f}', '{:.1f}\\%', '{:.1f}\\%', '{:.1f}\\%', '{:.3f}', '{:.3f}', '{:.3f}']"
   ]
  },
  {
   "cell_type": "code",
   "execution_count": 37,
   "id": "9cf2ba69-9808-40f7-8d46-945052699b33",
   "metadata": {},
   "outputs": [],
   "source": [
    "for metric, mult, form in zip(metrics, mults, formats):\n",
    "    neg_res[metric] = (neg_res[metric] * mult)\n",
    "    neg_ress = neg_res.copy()\n",
    "    neg_ress[metric] = neg_ress[metric].apply(form.format)\n",
    "\n",
    "neg_ress = neg_ress[neg_ress['neg'] == 'neg']\n",
    "neg_ress   = neg_ress[['lang', 'model'] + metrics]"
   ]
  },
  {
   "cell_type": "code",
   "execution_count": 38,
   "id": "edc20801-98ca-4086-8902-d64ff5066e65",
   "metadata": {},
   "outputs": [
    {
     "name": "stdout",
     "output_type": "stream",
     "text": [
      "\\begin{tabular}{lllrrrrrrrl}\n",
      " & lang & model & nll & log_perp & acc_1 & acc_3 & acc_5 & top_1_sim & top_3_sim & top_5_sim \\\\\n",
      "0 & en & T5 & 7.021792 & 6.939085 & 23.493388 & 35.422271 & 41.428761 & 0.592459 & 0.701751 & 0.748 \\\\\n",
      "2 & en & mT5 & 11.526908 & 11.441400 & 20.554112 & 29.449398 & 33.573983 & 0.578598 & 0.682647 & 0.726 \\\\\n",
      "4 & en & Llama-3 & 71.280807 & 55.169007 & 1.583548 & 2.187441 & 3.068592 & 0.420495 & 0.443581 & 0.459 \\\\\n",
      "6 & en & Mixtral & 1.451405 & nan & 11.361852 & 13.056897 & 15.009365 & 0.486800 & 0.510497 & 0.534 \\\\\n",
      "8 & es & mT5 & 7.277667 & 7.241091 & 23.755948 & 34.249311 & 38.982595 & 0.585466 & 0.712764 & 0.764 \\\\\n",
      "10 & es & Llama-3 & 83.747276 & 67.414730 & 1.933383 & 3.428500 & 3.829201 & 0.426350 & 0.453944 & 0.468 \\\\\n",
      "12 & es & Mixtral & 1.455457 & nan & 16.463186 & 18.997621 & 22.386677 & 0.506960 & 0.535194 & 0.572 \\\\\n",
      "\\end{tabular}\n",
      "\n"
     ]
    }
   ],
   "source": [
    "print(neg_ress.style.to_latex())"
   ]
  },
  {
   "cell_type": "markdown",
   "id": "732ec1cf-1edd-47d3-8327-bfaaf31fbb64",
   "metadata": {
    "tags": []
   },
   "source": [
    "## Gender "
   ]
  },
  {
   "cell_type": "code",
   "execution_count": 39,
   "id": "54f40829-8416-48c9-a125-af336741c41d",
   "metadata": {},
   "outputs": [],
   "source": [
    "BASE_DIR = '../../results/model_res/'\n",
    "models   = ['es_random_mt5_large', 'Meta-Llama-3-8B-Instruct_es', 'mixtral-8x22b-instruct_es']\n",
    "model_names = ['mT5', 'Llama-3', 'Mixtral']\n",
    "all_preds = [pd.read_csv(BASE_DIR + model + '/internal/preds.csv') for model in models]"
   ]
  },
  {
   "cell_type": "code",
   "execution_count": 40,
   "id": "de68c8f2-d92f-4679-bd2f-8c7f4955f7e4",
   "metadata": {},
   "outputs": [],
   "source": [
    "for i, pred in enumerate(all_preds):\n",
    "    if 'log_perp' not in pred.columns:\n",
    "        all_preds[i]['log_perp'] = np.nan\n",
    "        \n",
    "    all_preds[i] = all_preds[i].dropna(subset = 'input').reset_index(drop = True)\n",
    "    all_preds[i] = all_preds[i].drop('input', axis = 1)\n",
    "    \n",
    "    all_preds[i]['id'] = es['id']\n",
    "    all_preds[i]['input'] = es['clip_input']"
   ]
  },
  {
   "cell_type": "code",
   "execution_count": 41,
   "id": "fef9baff-ac44-4b6c-b7b2-4f150862abb5",
   "metadata": {
    "tags": []
   },
   "outputs": [
    {
     "data": {
      "application/vnd.jupyter.widget-view+json": {
       "model_id": "46117e2c1d8b4a468f98fbab8ed0ac94",
       "version_major": 2,
       "version_minor": 0
      },
      "text/plain": [
       "  0%|          | 0/6232 [00:00<?, ?it/s]"
      ]
     },
     "metadata": {},
     "output_type": "display_data"
    },
    {
     "data": {
      "application/vnd.jupyter.widget-view+json": {
       "model_id": "edeaaf9f215d4e2baf5aec1ecad8b40c",
       "version_major": 2,
       "version_minor": 0
      },
      "text/plain": [
       "  0%|          | 0/6232 [00:00<?, ?it/s]"
      ]
     },
     "metadata": {},
     "output_type": "display_data"
    },
    {
     "data": {
      "application/vnd.jupyter.widget-view+json": {
       "model_id": "c5d31a3ed046498b9f8c8d0b420b014d",
       "version_major": 2,
       "version_minor": 0
      },
      "text/plain": [
       "  0%|          | 0/6232 [00:00<?, ?it/s]"
      ]
     },
     "metadata": {},
     "output_type": "display_data"
    }
   ],
   "source": [
    "gend_res = gender_results(all_preds, model_names)"
   ]
  },
  {
   "cell_type": "code",
   "execution_count": 42,
   "id": "f4ef4365-2564-45f3-ad6e-d8c97f1a35c7",
   "metadata": {},
   "outputs": [],
   "source": [
    "metrics = ['nll', 'log_perp', 'acc_1', 'acc_3', 'acc_5', 'top_1_sim', 'top_3_sim', 'top_5_sim']\n",
    "mults   = [1, 1, 100, 100, 100, 1, 1, 1]\n",
    "formats = ['{:.2f}', '{:.2f}', '{:.1f}\\%', '{:.1f}\\%', '{:.1f}\\%', '{:.3f}', '{:.3f}', '{:.3f}']"
   ]
  },
  {
   "cell_type": "code",
   "execution_count": 43,
   "id": "26f18554-101d-4d4a-a9a9-51cda66c6da0",
   "metadata": {},
   "outputs": [],
   "source": [
    "for metric, mult, form in zip(metrics, mults, formats):\n",
    "    gend_res[metric] = (gend_res[metric] * mult)\n",
    "    gend_ress = gend_res.copy()\n",
    "    gend_ress[metric] = gend_ress[metric].apply(form.format)\n",
    "\n",
    "gend_ress = gend_ress[gend_ress['gender'] != 'neut']\n",
    "gend_ress   = gend_ress[['model', 'gender'] + metrics]"
   ]
  },
  {
   "cell_type": "code",
   "execution_count": 44,
   "id": "9b5b6703-3a7b-445f-b6f8-98a5e916d3f0",
   "metadata": {},
   "outputs": [
    {
     "name": "stdout",
     "output_type": "stream",
     "text": [
      "\\begin{tabular}{lllrrrrrrrl}\n",
      " & model & gender & nll & log_perp & acc_1 & acc_3 & acc_5 & top_1_sim & top_3_sim & top_5_sim \\\\\n",
      "0 & mT5 & fem & 6.825389 & 6.701535 & 22.051282 & 33.261577 & 38.987754 & 0.508657 & 0.605983 & 0.648 \\\\\n",
      "1 & mT5 & masc & 7.277047 & 7.212709 & 19.431938 & 28.303274 & 32.709101 & 0.483373 & 0.587776 & 0.633 \\\\\n",
      "3 & Llama-3 & fem & 87.057633 & 70.213367 & 1.769996 & 2.793724 & 3.013777 & 0.424480 & 0.459571 & 0.474 \\\\\n",
      "4 & Llama-3 & masc & 80.789257 & 64.154791 & 2.453923 & 3.269265 & 3.831841 & 0.424952 & 0.456895 & 0.470 \\\\\n",
      "6 & Mixtral & fem & 2.149643 & nan & 5.266935 & 6.823574 & 8.433519 & 0.445980 & 0.477995 & 0.504 \\\\\n",
      "7 & Mixtral & masc & 1.932668 & nan & 8.704362 & 11.150386 & 12.929393 & 0.440988 & 0.473392 & 0.499 \\\\\n",
      "\\end{tabular}\n",
      "\n"
     ]
    }
   ],
   "source": [
    "print(gend_ress.style.to_latex())"
   ]
  },
  {
   "cell_type": "markdown",
   "id": "b48b10bf-0feb-493d-91c8-80959479785f",
   "metadata": {
    "tags": []
   },
   "source": [
    "## Plot "
   ]
  },
  {
   "cell_type": "code",
   "execution_count": 45,
   "id": "5e41056a-aa86-4bef-9847-5d5634699b22",
   "metadata": {},
   "outputs": [],
   "source": [
    "plt.rcParams['figure.figsize'] = (10, 3)"
   ]
  },
  {
   "cell_type": "code",
   "execution_count": 46,
   "id": "7ecd0a41-b6bd-4821-8842-c6df3c342b02",
   "metadata": {},
   "outputs": [
    {
     "data": {
      "image/png": "[encoded data removed]",
      "text/plain": [
       "<Figure size 1000x300 with 2 Axes>"
      ]
     },
     "metadata": {},
     "output_type": "display_data"
    }
   ],
   "source": [
    "fig, axs = plt.subplots(2,1, sharex = True)\n",
    "colors = [['C3', 'C7', 'C1', 'C2', 'C4'], ['#8f1900', '#052a4a', '#004d1c', '#824c00', '#3d2a45'], ['#420b00', '#021424', '#001f0b', '#402500', '#1f1624']]\n",
    "\n",
    "# --- Gender Acc ---\n",
    "width = 0.2\n",
    "num_models = len(gend_res['gender'].unique())\n",
    "for i, gender in enumerate(['fem', 'masc', 'neut']):\n",
    "    sub = gend_res[gend_res['gender'] == gender]\n",
    "    \n",
    "    axs[0].bar(np.arange(num_models) + (i-1)*width, sub['acc_1'], width = width, label =  gender, color = colors[0][i])\n",
    "    axs[0].bar(np.arange(num_models) + (i-1)*width, sub['acc_3'] - sub['acc_1'], bottom = sub['acc_1'] + 1, width = width, label =  gender, color = colors[1][i])\n",
    "    axs[0].bar(np.arange(num_models) + (i-1)*width, sub['acc_5']-sub['acc_3'], bottom = sub['acc_3'] + 2, width = width, label =  gender, color = colors[2][i])\n",
    "\n",
    "# --- Negations (Es) Acc ---\n",
    "width = 0.3\n",
    "offset = 3.5\n",
    "axs[0].plot([2.8, 2.8], [0, 45], c = 'black')\n",
    "        \n",
    "sub_neg_res = neg_res[neg_res['lang'] == 'es']\n",
    "num_models = len(sub_neg_res['model'].unique())\n",
    "for i, neg in enumerate(['neg', 'non_neg']):\n",
    "    sub = sub_neg_res[sub_neg_res['neg'] == neg]\n",
    "    \n",
    "    axs[0].bar(offset + np.arange(num_models) + (i-.5)*width, sub['acc_1'], width = width, label =  gender, color = colors[0][i+3])\n",
    "    axs[0].bar(offset + np.arange(num_models) + (i-.5)*width, sub['acc_3'] - sub['acc_1'], bottom = sub['acc_1'] + 1, width = width, label =  gender, color = colors[1][i+3])\n",
    "    axs[0].bar(offset + np.arange(num_models) + (i-.5)*width, sub['acc_5']-sub['acc_3'], bottom = sub['acc_3'] + 2, width = width, label =  gender, color = colors[2][i+3])\n",
    "\n",
    "# --- Negations (En) Acc ---\n",
    "offset = 7\n",
    "axs[0].plot([6.3, 6.3], [0, 45], c = 'black')\n",
    "        \n",
    "sub_neg_res = neg_res[neg_res['lang'] == 'en']\n",
    "num_models = len(sub_neg_res['model'].unique())\n",
    "for i, neg in enumerate(['neg', 'non_neg']):\n",
    "    sub = sub_neg_res[sub_neg_res['neg'] == neg]\n",
    "    \n",
    "    axs[0].bar(offset + np.arange(num_models) + (i-.5)*width, sub['acc_1'], width = width, label =  gender, color = colors[0][i+3])\n",
    "    axs[0].bar(offset + np.arange(num_models) + (i-.5)*width, sub['acc_3'] - sub['acc_1'], bottom = sub['acc_1'] + 1, width = width, label =  gender, color = colors[1][i+3])\n",
    "    axs[0].bar(offset + np.arange(num_models) + (i-.5)*width, sub['acc_5']-sub['acc_3'], bottom = sub['acc_3'] + 2, width = width, label =  gender, color = colors[2][i+3])\n",
    "        \n",
    "# --- Gender Sim ---\n",
    "width = 0.2 \n",
    "num_models = len(gend_res['model'].unique())\n",
    "for i, gender in enumerate(['fem', 'masc', 'neut']):\n",
    "    sub = gend_res[gend_res['gender'] == gender]\n",
    "    \n",
    "    axs[1].bar(np.arange(num_models) + (i-.5)*width, sub['top_1_sim'], width = width, label =  gender, color = colors[0][i])\n",
    "    axs[1].bar(np.arange(num_models) + (i-.5)*width, sub['top_3_sim'] - sub['top_1_sim'], bottom = sub['top_1_sim'] + .01, width = width, label =  gender, color = colors[1][i])\n",
    "    axs[1].bar(np.arange(num_models) + (i-.5)*width, sub['top_5_sim']-sub['top_3_sim'], bottom = sub['top_3_sim'] + .02, width = width, label =  gender, color = colors[2][i])\n",
    "\n",
    "# --- Negations (Es) Acc ---\n",
    "width = 0.3\n",
    "offset = 3.5\n",
    "plt.plot([2.8, 2.8], [0, .85], c = 'black')\n",
    "        \n",
    "sub_neg_res = neg_res[neg_res['lang'] == 'es']\n",
    "num_models = len(sub_neg_res['model'].unique())      \n",
    "for i, neg in enumerate(['neg', 'non_neg']):\n",
    "    sub = sub_neg_res[sub_neg_res['neg'] == neg]\n",
    "    \n",
    "    axs[1].bar(offset + np.arange(num_models) + (i-.5)*width, sub['top_1_sim'], width = width, label =  gender, color = colors[0][i+3])\n",
    "    axs[1].bar(offset + np.arange(num_models) + (i-.5)*width, sub['top_3_sim'] - sub['top_1_sim'], bottom = sub['top_1_sim'] + .01, width = width, label =  gender, color = colors[1][i+3])\n",
    "    axs[1].bar(offset + np.arange(num_models) + (i-.5)*width, sub['top_5_sim']-sub['top_3_sim'], bottom = sub['top_3_sim'] + .02, width = width, label =  gender, color = colors[2][i+3])\n",
    "\n",
    "# --- Negations (En) Acc ---\n",
    "offset = 7\n",
    "plt.plot([6.3, 6.3], [0, .85], c = 'black')\n",
    "        \n",
    "sub_neg_res = neg_res[neg_res['lang'] == 'en']\n",
    "num_models = len(sub_neg_res['model'].unique())      \n",
    "for i, neg in enumerate(['neg', 'non_neg']):\n",
    "    sub = sub_neg_res[sub_neg_res['neg'] == neg]\n",
    "    \n",
    "    axs[1].bar(offset + np.arange(num_models) + (i-.5)*width, sub['top_1_sim'], width = width, label =  gender, color = colors[0][i+3])\n",
    "    axs[1].bar(offset + np.arange(num_models) + (i-.5)*width, sub['top_3_sim'] - sub['top_1_sim'], bottom = sub['top_1_sim'] + .01, width = width, label =  gender, color = colors[1][i+3])\n",
    "    axs[1].bar(offset + np.arange(num_models) + (i-.5)*width, sub['top_5_sim'] -sub['top_3_sim'], bottom = sub['top_3_sim'] + .02, width = width, label =  gender, color = colors[2][i+3])\n",
    "\n",
    "# --- Legend ---\n",
    "legend_names    = ['Female', 'Male', 'Neither', 'Negated', 'Non-negated']\n",
    "legend_elements = [Patch(facecolor=color, label = name) for color, name in zip(colors[0], legend_names)]\n",
    "legend_elements = legend_elements[:3] + [Patch(facecolor='#00000000', label = '')] + legend_elements[3:]\n",
    "\n",
    "plt.legend(handles = legend_elements, loc = 'lower center', bbox_to_anchor = (0.5,  -0.65), ncol=6)\n",
    "\n",
    "# --- Axes Labels ---\n",
    "axs[0].set_ylabel(r'\\textbf{Acc@k} (\\%)')\n",
    "axs[1].set_ylabel(r'\\textbf{Sim@k}')\n",
    "plt.xticks(np.array([0.1,1.1,2.1, 3.5, 1+3.5, 2+3.5, 7, 8, 9, 10]), \n",
    "           [r'mT5$^{Es}$', 'Llama-3', 'Mixtral', r'mT5$^{Es}$', \n",
    "            'Llama-3', 'Mixtral', r'T5$^{En}$', r'mT5$^{En}$', 'Llama-3', 'Mixtral'])\n",
    "\n",
    "# Axes Ticks\n",
    "axs[0].set_yticks(np.arange(5) * 10)\n",
    "axs[1].set_yticks(np.arange(5) * 0.2)\n",
    "\n",
    "# Experiment Labels\n",
    "plt.text(.75, -.3, r'\\textbf{Gender}')\n",
    "plt.text(3.9, -.3, r'\\textbf{Negations (Es)}')\n",
    "plt.text(7.5, -.3, r'\\textbf{Negations (En)}')\n",
    "\n",
    "# --- Axis Visibility ---\n",
    "axs[0].axhline(0, color = 'black', linewidth = 2)\n",
    "axs[1].axhline(0, color = 'black', linewidth = 2)\n",
    "axs[0].axvline(-.7, color = 'black', linewidth = 2)\n",
    "axs[1].axvline(-.7, color = 'black', linewidth = 2)\n",
    "axs[0].spines[['right', 'top']].set_visible(False)\n",
    "axs[1].spines[['right', 'top']].set_visible(False)\n",
    "\n",
    "# --- Grid Visibility ---\n",
    "axs[0].grid(which = 'major', axis = 'y')\n",
    "axs[1].grid(which = 'major', axis = 'y')\n",
    "axs[0].grid(which = 'major', axis = 'x', visible = None) \n",
    "axs[1].grid(which = 'major', axis = 'x', visible = None)\n",
    "axs[0].tick_params(which = 'both', top = False, left = False, right = False, bottom = False) \n",
    "axs[1].tick_params(which = 'both', top = False, left = False, right = False, bottom = False) \n",
    "\n",
    "# --- Limits\n",
    "axs[0].set_xlim(-.7, 10.5)\n",
    "axs[1].set_xlim(-.7, 10.5)\n",
    "\n",
    "plt.savefig('../figures/linguistic_constructs.pdf', dpi = 600, bbox_inches = 'tight')"
   ]
  },
  {
   "cell_type": "markdown",
   "id": "1edba9eb-1a1d-4448-822e-fda4cd48fbdd",
   "metadata": {},
   "source": [
    "# Translation Experiments "
   ]
  },
  {
   "cell_type": "code",
   "execution_count": 47,
   "id": "b0667a22-5749-43b7-8d85-6482409f2721",
   "metadata": {},
   "outputs": [],
   "source": [
    "models = [\n",
    "        'en_masive_sub0_mt5_large','en_masive_sub1_mt5_large', 'en_masive_sub2_mt5_large', 'en_masive_sub3_mt5_large', 'en_masive_sub4_mt5_large',\n",
    "        'en_trans_masive_mt5_large',\n",
    "        'es_masive_mt5_large',\n",
    "        'es_masive_mt5_large',\n",
    "        'es_trans_masive_sub0_mt5_large', 'es_trans_masive_sub1_mt5_large', 'es_trans_masive_sub2_mt5_large', 'es_trans_masive_sub3_mt5_large', 'es_trans_masive_sub4_mt5_large',\n",
    "        'en_masive_sub0_mt5_large','en_masive_sub1_mt5_large', 'en_masive_sub2_mt5_large', 'en_masive_sub3_mt5_large', 'en_masive_sub4_mt5_large',\n",
    "         ]\n",
    "exps   = [\n",
    "        'internal', 'internal', 'internal', 'internal', 'internal',\n",
    "        'internal',\n",
    "        'internal/trans',\n",
    "        'internal',\n",
    "        'internal', 'internal', 'internal', 'internal', 'internal',\n",
    "        'internal/trans', 'internal/trans', 'internal/trans', 'internal/trans', 'internal/trans', \n",
    "         ]\n",
    "model_groups = [0, 0, 0, 0, 0,\n",
    "                1,\n",
    "                2,\n",
    "                3,\n",
    "                4, 4, 4, 4, 4,\n",
    "                5, 5, 5, 5, 5\n",
    "               ]\n",
    "model_names = ['mT5^{En}_S',\n",
    "               'mT5^{En}_Tr',\n",
    "               'mT5^{Es}',\n",
    "               'mT5^{Es}',\n",
    "               'mT5^{Es}_{Tr,S}',\n",
    "               'mT5^{En}_S'\n",
    "              ]\n",
    "test_sets   = [\n",
    "                'En', \n",
    "                'En',\n",
    "                'Es_{Tr}', \n",
    "                'Es', \n",
    "                'Es', \n",
    "                'En_{Tr}'\n",
    "              ]"
   ]
  },
  {
   "cell_type": "code",
   "execution_count": 48,
   "id": "dad9aca7-4960-4f65-b574-1be069c5ce02",
   "metadata": {},
   "outputs": [],
   "source": [
    "metrics = ['nll', 'log_perp', 'acc_1', 'acc_3', 'acc_5', 'top_1_sim', 'top_3_sim', 'top_5_sim']\n",
    "scale_metrics = ['acc_1', 'acc_3', 'acc_5']"
   ]
  },
  {
   "cell_type": "code",
   "execution_count": 49,
   "id": "62ddb49d-56cd-4876-88c1-d3d87be8cb74",
   "metadata": {},
   "outputs": [],
   "source": [
    "all_scores = [pd.read_csv(f'{MODEL_RES}/{model}/{exp}/metrics.csv') for model, exp in zip(models, exps)]\n",
    "all_scores = pd.concat(all_scores)\n",
    "all_scores['group'] = model_groups\n",
    "all_scores = all_scores.groupby('group').mean().reset_index()\n",
    "all_scores['model'] = model_names\n",
    "all_scores['test_set'] = test_sets\n",
    "all_scores = all_scores[['test_set', 'model'] + metrics]\n",
    "all_scores[scale_metrics] = all_scores[scale_metrics]*100\n",
    "all_scores = all_scores.rename(metric_names, axis = 1)"
   ]
  },
  {
   "cell_type": "code",
   "execution_count": 50,
   "id": "0afa13c2-e58a-4ea6-9592-ff3518a2dcc0",
   "metadata": {},
   "outputs": [],
   "source": [
    "all_scores = all_scores.style.format(formatters).hide(axis=0)"
   ]
  },
  {
   "cell_type": "code",
   "execution_count": 51,
   "id": "103c2d76-4797-4396-9612-9c91b4469c4f",
   "metadata": {},
   "outputs": [
    {
     "name": "stdout",
     "output_type": "stream",
     "text": [
      "\\begin{tabular}{llrrrrrrrr}\n",
      "Test Set & Model & NLL\\downarrow & Log Perp\\downarrow & Acc@1\\uparrow & Acc@3\\uparrow & Acc@5\\uparrow & Sim@1\\uparrow & Sim@3\\uparrow & Sim@5\\uparrow \\\\\n",
      "$En$\t & $mT5^{En}_S$\t & 4.21 & 4.17 & 27.05\\% & 41.37\\% & 48.71\\% & 0.598 & 0.719 & 0.769 \\\\\n",
      "$En$\t & $mT5^{En}_Tr$\t & 16.86 & 15.79 & 2.18\\% & 4.45\\% & 6.12\\% & 0.418 & 0.532 & 0.579 \\\\\n",
      "$Es_{Tr}$\t & $mT5^{Es}$\t & 59.37 & 59.23 & 2.35\\% & 4.20\\% & 5.46\\% & 0.369 & 0.448 & 0.482 \\\\\n",
      "$Es$\t & $mT5^{Es}$\t & 6.91 & 6.89 & 24.51\\% & 36.16\\% & 41.23\\% & 0.610 & 0.734 & 0.781 \\\\\n",
      "$Es$\t & $mT5^{Es}_{Tr,S}$\t & 15.80 & 15.54 & 2.37\\% & 4.95\\% & 6.58\\% & 0.378 & 0.472 & 0.517 \\\\\n",
      "$En_{Tr}$\t & $mT5^{En}_S$\t & 24.15 & 23.94 & 3.07\\% & 6.60\\% & 9.39\\% & 0.443 & 0.532 & 0.573 \\\\\n",
      "\\end{tabular}\n",
      "\n"
     ]
    }
   ],
   "source": [
    "print(all_scores.to_latex())"
   ]
  },
  {
   "cell_type": "markdown",
   "id": "23172541-0d00-488e-8db9-65db987aa754",
   "metadata": {},
   "source": [
    "# Appendices "
   ]
  },
  {
   "cell_type": "markdown",
   "id": "c1725490-d366-4141-b838-61378c372d2f",
   "metadata": {},
   "source": [
    "## Llama Re-analysis "
   ]
  },
  {
   "cell_type": "code",
   "execution_count": 52,
   "id": "c403264f-3fbd-4905-9e11-e73bf41be1b4",
   "metadata": {},
   "outputs": [],
   "source": [
    "def check_format(pred):\n",
    "    expected_reg = r'\\b(\\w+,\\s*)+\\w+\\b'\n",
    "    return re.fullmatch(expected_reg, pred) is not None\n",
    "\n",
    "def filter_preds(preds):\n",
    "    preds['valid_format'] = preds['pred'].progress_apply(check_format)\n",
    "    valid_preds = preds[preds['valid_format']]\n",
    "    return valid_preds"
   ]
  },
  {
   "cell_type": "code",
   "execution_count": 53,
   "id": "32098e33-1fb9-488e-9499-72a938fab2c3",
   "metadata": {},
   "outputs": [],
   "source": [
    "models = [\n",
    "          'Meta-Llama-3-8B-Instruct_en',\n",
    "          'Meta-Llama-3-8B-Instruct_es',\n",
    "          'Meta-Llama-3-8B-Instruct_es_reg'\n",
    "         ]\n",
    "exps = ['internal', 'internal', 'internal/regional']\n",
    "langs = ['En', 'Es', 'Es (Reg)']"
   ]
  },
  {
   "cell_type": "code",
   "execution_count": 54,
   "id": "9d9169fd-f147-46ce-88da-912d33abe1e3",
   "metadata": {},
   "outputs": [],
   "source": [
    "metrics = ['nll', 'log_perp', 'acc_1', 'acc_3', 'acc_5', 'top_1_sim', 'top_3_sim', 'top_5_sim']\n",
    "scale_metrics = ['acc_1', 'acc_3', 'acc_5', '% valid']"
   ]
  },
  {
   "cell_type": "code",
   "execution_count": 55,
   "id": "aafdcc39-aa27-4909-996a-0cd944589ea9",
   "metadata": {},
   "outputs": [
    {
     "data": {
      "application/vnd.jupyter.widget-view+json": {
       "model_id": "e924ecd6f47e461faa5d8c94b27f6b4d",
       "version_major": 2,
       "version_minor": 0
      },
      "text/plain": [
       "  0%|          | 0/10049 [00:00<?, ?it/s]"
      ]
     },
     "metadata": {},
     "output_type": "display_data"
    },
    {
     "data": {
      "application/vnd.jupyter.widget-view+json": {
       "model_id": "5595eba825544a5c9b664b7505701cea",
       "version_major": 2,
       "version_minor": 0
      },
      "text/plain": [
       "  0%|          | 0/4274 [00:00<?, ?it/s]"
      ]
     },
     "metadata": {},
     "output_type": "display_data"
    },
    {
     "data": {
      "application/vnd.jupyter.widget-view+json": {
       "model_id": "48787ad8f91c49db9d3ee0c6ea8b131a",
       "version_major": 2,
       "version_minor": 0
      },
      "text/plain": [
       "  0%|          | 0/559 [00:00<?, ?it/s]"
      ]
     },
     "metadata": {},
     "output_type": "display_data"
    }
   ],
   "source": [
    "all_preds = [pd.read_csv(f'{MODEL_RES}/{model}/{exp}/preds.csv') for model, exp in zip(models, exps)]\n",
    "valid_preds = [filter_preds(pred) for pred in all_preds]\n",
    "all_scores = [{metric: pred[metric].mean() for metric in metrics} for pred in valid_preds]\n",
    "for i, scores in enumerate(all_scores):\n",
    "    all_scores[i]['% valid'] = len(valid_preds[i])/len(all_preds[i])"
   ]
  },
  {
   "cell_type": "code",
   "execution_count": 56,
   "id": "a9e1d696-644a-4866-b810-0a0ef29d1bab",
   "metadata": {},
   "outputs": [],
   "source": [
    "all_scores = pd.DataFrame(all_scores)\n",
    "all_scores['lang'] = langs\n",
    "all_scores = all_scores[['lang', '% valid'] + metrics]\n",
    "all_scores[scale_metrics] = all_scores[scale_metrics]*100\n",
    "all_scores = all_scores.rename(metric_names, axis = 1)"
   ]
  },
  {
   "cell_type": "code",
   "execution_count": 57,
   "id": "8cd31b0e-5fb3-421a-8937-59068a15b2c9",
   "metadata": {},
   "outputs": [],
   "source": [
    "all_scores = all_scores.style.format(formatters).hide(axis=0)"
   ]
  },
  {
   "cell_type": "code",
   "execution_count": 58,
   "id": "8f81faeb-7b97-4c1b-afeb-1be402615fc3",
   "metadata": {},
   "outputs": [
    {
     "name": "stdout",
     "output_type": "stream",
     "text": [
      "\\begin{tabular}{lrrrrrrrrr}\n",
      "lang & % Valid & NLL\\downarrow & Log Perp\\downarrow & Acc@1\\uparrow & Acc@3\\uparrow & Acc@5\\uparrow & Sim@1\\uparrow & Sim@3\\uparrow & Sim@5\\uparrow \\\\\n",
      "En & 59.69\\% & 63.23 & 47.09 & 2.05\\% & 3.63\\% & 4.69\\% & 0.433 & 0.479 & 0.502 \\\\\n",
      "Es & 69.51\\% & 79.01 & 62.83 & 3.53\\% & 6.57\\% & 8.27\\% & 0.467 & 0.516 & 0.541 \\\\\n",
      "Es (Reg) & 76.03\\% & 70.26 & 54.27 & 0.00\\% & 0.00\\% & 0.00\\% & 0.384 & 0.425 & 0.436 \\\\\n",
      "\\end{tabular}\n",
      "\n"
     ]
    }
   ],
   "source": [
    "print(all_scores.to_latex())"
   ]
  },
  {
   "cell_type": "code",
   "execution_count": 59,
   "id": "b6cb26c7-d51e-4918-9308-4eb3e36b8a4f",
   "metadata": {},
   "outputs": [
    {
     "data": {
      "text/html": [
       "<style type=\"text/css\">\n",
       "</style>\n",
       "<table id=\"T_e7c85\">\n",
       "  <thead>\n",
       "    <tr>\n",
       "      <th id=\"T_e7c85_level0_col0\" class=\"col_heading level0 col0\" >lang</th>\n",
       "      <th id=\"T_e7c85_level0_col1\" class=\"col_heading level0 col1\" >% Valid</th>\n",
       "      <th id=\"T_e7c85_level0_col2\" class=\"col_heading level0 col2\" >NLL\\downarrow</th>\n",
       "      <th id=\"T_e7c85_level0_col3\" class=\"col_heading level0 col3\" >Log Perp\\downarrow</th>\n",
       "      <th id=\"T_e7c85_level0_col4\" class=\"col_heading level0 col4\" >Acc@1\\uparrow</th>\n",
       "      <th id=\"T_e7c85_level0_col5\" class=\"col_heading level0 col5\" >Acc@3\\uparrow</th>\n",
       "      <th id=\"T_e7c85_level0_col6\" class=\"col_heading level0 col6\" >Acc@5\\uparrow</th>\n",
       "      <th id=\"T_e7c85_level0_col7\" class=\"col_heading level0 col7\" >Sim@1\\uparrow</th>\n",
       "      <th id=\"T_e7c85_level0_col8\" class=\"col_heading level0 col8\" >Sim@3\\uparrow</th>\n",
       "      <th id=\"T_e7c85_level0_col9\" class=\"col_heading level0 col9\" >Sim@5\\uparrow</th>\n",
       "    </tr>\n",
       "  </thead>\n",
       "  <tbody>\n",
       "    <tr>\n",
       "      <td id=\"T_e7c85_row0_col0\" class=\"data row0 col0\" >En</td>\n",
       "      <td id=\"T_e7c85_row0_col1\" class=\"data row0 col1\" >59.69\\%</td>\n",
       "      <td id=\"T_e7c85_row0_col2\" class=\"data row0 col2\" >63.23</td>\n",
       "      <td id=\"T_e7c85_row0_col3\" class=\"data row0 col3\" >47.09</td>\n",
       "      <td id=\"T_e7c85_row0_col4\" class=\"data row0 col4\" >2.05\\%</td>\n",
       "      <td id=\"T_e7c85_row0_col5\" class=\"data row0 col5\" >3.63\\%</td>\n",
       "      <td id=\"T_e7c85_row0_col6\" class=\"data row0 col6\" >4.69\\%</td>\n",
       "      <td id=\"T_e7c85_row0_col7\" class=\"data row0 col7\" >0.433</td>\n",
       "      <td id=\"T_e7c85_row0_col8\" class=\"data row0 col8\" >0.479</td>\n",
       "      <td id=\"T_e7c85_row0_col9\" class=\"data row0 col9\" >0.502</td>\n",
       "    </tr>\n",
       "    <tr>\n",
       "      <td id=\"T_e7c85_row1_col0\" class=\"data row1 col0\" >Es</td>\n",
       "      <td id=\"T_e7c85_row1_col1\" class=\"data row1 col1\" >69.51\\%</td>\n",
       "      <td id=\"T_e7c85_row1_col2\" class=\"data row1 col2\" >79.01</td>\n",
       "      <td id=\"T_e7c85_row1_col3\" class=\"data row1 col3\" >62.83</td>\n",
       "      <td id=\"T_e7c85_row1_col4\" class=\"data row1 col4\" >3.53\\%</td>\n",
       "      <td id=\"T_e7c85_row1_col5\" class=\"data row1 col5\" >6.57\\%</td>\n",
       "      <td id=\"T_e7c85_row1_col6\" class=\"data row1 col6\" >8.27\\%</td>\n",
       "      <td id=\"T_e7c85_row1_col7\" class=\"data row1 col7\" >0.467</td>\n",
       "      <td id=\"T_e7c85_row1_col8\" class=\"data row1 col8\" >0.516</td>\n",
       "      <td id=\"T_e7c85_row1_col9\" class=\"data row1 col9\" >0.541</td>\n",
       "    </tr>\n",
       "    <tr>\n",
       "      <td id=\"T_e7c85_row2_col0\" class=\"data row2 col0\" >Es (Reg)</td>\n",
       "      <td id=\"T_e7c85_row2_col1\" class=\"data row2 col1\" >76.03\\%</td>\n",
       "      <td id=\"T_e7c85_row2_col2\" class=\"data row2 col2\" >70.26</td>\n",
       "      <td id=\"T_e7c85_row2_col3\" class=\"data row2 col3\" >54.27</td>\n",
       "      <td id=\"T_e7c85_row2_col4\" class=\"data row2 col4\" >0.00\\%</td>\n",
       "      <td id=\"T_e7c85_row2_col5\" class=\"data row2 col5\" >0.00\\%</td>\n",
       "      <td id=\"T_e7c85_row2_col6\" class=\"data row2 col6\" >0.00\\%</td>\n",
       "      <td id=\"T_e7c85_row2_col7\" class=\"data row2 col7\" >0.384</td>\n",
       "      <td id=\"T_e7c85_row2_col8\" class=\"data row2 col8\" >0.425</td>\n",
       "      <td id=\"T_e7c85_row2_col9\" class=\"data row2 col9\" >0.436</td>\n",
       "    </tr>\n",
       "  </tbody>\n",
       "</table>\n"
      ],
      "text/plain": [
       "<pandas.io.formats.style.Styler at 0x7f2be79073d0>"
      ]
     },
     "execution_count": 59,
     "metadata": {},
     "output_type": "execute_result"
    }
   ],
   "source": [
    "all_scores"
   ]
  },
  {
   "cell_type": "markdown",
   "id": "0ebe8738-56c7-4dd4-9df6-2f2a55a55278",
   "metadata": {},
   "source": [
    "## T5 External Results "
   ]
  },
  {
   "cell_type": "code",
   "execution_count": 60,
   "id": "84995c73-a8df-4369-8b07-370ada4863c6",
   "metadata": {},
   "outputs": [],
   "source": [
    "models = ['t5_large_goemo', 'en_masive_t5_large_goemo', 'mt5_large_goemo', 'en_masive_mt5_large_goemo',\n",
    "          't5_large_goemo_full', 'en_masive_t5_large_goemo_full', 'mt5_large_goemo_full', 'en_masive_mt5_large_goemo_full',\n",
    "          't5_large_emoevent_en', 'en_masive_t5_large_emoevent_en', 'mt5_large_emoevent_en', 'en_masive_mt5_large_emoevent_en',\n",
    "          'mt5_large_emoevent_es', 'es_masive_mt5_large_emoevent_es'\n",
    "         ]\n",
    "model_names = ['T5^{En}', \n",
    "               'T5^{MAS}', \n",
    "               'mT5^{En}', \n",
    "               'mT5^{MAS}',\n",
    "               'T5^{En}', \n",
    "               'T5^{MAS}', \n",
    "               'mT5^{En}', \n",
    "               'mT5^{MAS}',\n",
    "               'T5^{En}', \n",
    "               'T5^{MAS}', \n",
    "               'mT5^{En}', \n",
    "               'mT5^{MAS}', \n",
    "               'mT5^{Es}', \n",
    "               'mT5^{MAS}']\n",
    "dss    = ['goemo', 'goemo', 'goemo', 'goemo',\n",
    "          'goemo_full', 'goemo_full', 'goemo_full', 'goemo_full',\n",
    "          'emoevent_en', 'emoevent_en', 'emoevent_en', 'emoevent_en',\n",
    "          'emoevent_es', 'emoevent_es'\n",
    "         ]\n",
    "ds_names = ['GoEmotions (7)', 'GoEmotions (7)', 'GoEmotions (7)', 'GoEmotions (7)',\n",
    "            'GoEmotions (27)', 'GoEmotions (27)', 'GoEmotions (27)', 'GoEmotions (27)',\n",
    "            'EmoEvent (En)', 'EmoEvent (En)', 'EmoEvent (En)', 'EmoEvent (En)',\n",
    "            'EmoEvent (Es)', 'EmoEvent (Es)'\n",
    "           ]"
   ]
  },
  {
   "cell_type": "code",
   "execution_count": 61,
   "id": "556ce138-0d80-4c9f-95f3-944f16c8a738",
   "metadata": {},
   "outputs": [],
   "source": [
    "metrics = ['macro_prec', 'macro_rec', 'macro_f1', 'acc_1', 'acc_3', 'acc_5', 'top_1_sim', 'top_3_sim', 'top_5_sim']\n",
    "scale_metrics = ['macro_prec', 'macro_rec', 'macro_f1', 'acc_1', 'acc_3', 'acc_5']"
   ]
  },
  {
   "cell_type": "code",
   "execution_count": 62,
   "id": "f0fa02e7-2f8a-4755-a89a-41aebcd3f181",
   "metadata": {},
   "outputs": [],
   "source": [
    "all_scores = [pd.read_csv(f'{MODEL_RES}/{model}/external/{ds}/metrics.csv') for model, ds in zip(models, dss)]\n",
    "all_scores = pd.concat(all_scores)\n",
    "all_scores['model'] = model_names\n",
    "all_scores['dataset'] = ds_names\n",
    "all_scores = all_scores[['dataset', 'model'] + metrics]\n",
    "all_scores[scale_metrics] = all_scores[scale_metrics]*100\n",
    "all_scores = all_scores.rename(metric_names, axis = 1)"
   ]
  },
  {
   "cell_type": "code",
   "execution_count": 63,
   "id": "b519be50-0604-428e-ba75-0703293be83e",
   "metadata": {},
   "outputs": [],
   "source": [
    "all_scores = all_scores.style.format(formatters).hide(axis=0)"
   ]
  },
  {
   "cell_type": "code",
   "execution_count": 64,
   "id": "d00794c8-df74-406a-8584-e5aae5c89a58",
   "metadata": {},
   "outputs": [
    {
     "name": "stdout",
     "output_type": "stream",
     "text": [
      "\\begin{tabular}{llrrrrrrrrr}\n",
      "Dataset & Model & P\\uparrow & R\\uparrow & F1\\uparrow & Acc@1\\uparrow & Acc@3\\uparrow & Acc@5\\uparrow & Sim@1\\uparrow & Sim@3\\uparrow & Sim@5\\uparrow \\\\\n",
      "GoEmotions (7)\t & $T5^{En}$\t & 42.45 & 39.59 & 25.59 & 38.53\\% & 47.95\\% & 55.74\\% & 0.734 & 0.775 & 0.804 \\\\\n",
      "GoEmotions (7)\t & $T5^{MAS}$\t & 26.75 & 38.47 & 26.14 & 34.50\\% & 47.26\\% & 55.09\\% & 0.708 & 0.774 & 0.803 \\\\\n",
      "GoEmotions (7)\t & $mT5^{En}$\t & 33.63 & 19.28 & 16.25 & 38.49\\% & 70.73\\% & 85.99\\% & 0.736 & 0.884 & 0.946 \\\\\n",
      "GoEmotions (7)\t & $mT5^{MAS}$\t & 33.06 & 39.81 & 28.30 & 17.49\\% & 32.11\\% & 39.25\\% & 0.629 & 0.733 & 0.771 \\\\\n",
      "GoEmotions (27)\t & $T5^{En}$\t & 24.23 & 7.36 & 5.67 & 2.03\\% & 3.27\\% & 3.86\\% & 0.197 & 0.461 & 0.492 \\\\\n",
      "GoEmotions (27)\t & $T5^{MAS}$\t & 11.34 & 2.77 & 0.80 & 2.64\\% & 4.10\\% & 5.14\\% & 0.506 & 0.560 & 0.574 \\\\\n",
      "GoEmotions (27)\t & $mT5^{En}$\t & 12.57 & 4.77 & 2.24 & 2.53\\% & 12.90\\% & 23.51\\% & 0.525 & 0.614 & 0.670 \\\\\n",
      "GoEmotions (27)\t & $mT5^{MAS}$\t & 27.08 & 18.76 & 11.92 & 7.54\\% & 12.22\\% & 15.16\\% & 0.508 & 0.602 & 0.639 \\\\\n",
      "EmoEvent (En)\t & $T5^{En}$\t & 64.46 & 57.48 & 46.39 & 27.44\\% & 51.30\\% & 56.38\\% & 0.541 & 0.777 & 0.811 \\\\\n",
      "EmoEvent (En)\t & $T5^{MAS}$\t & 61.37 & 50.38 & 52.89 & 32.55\\% & 59.56\\% & 71.85\\% & 0.671 & 0.837 & 0.892 \\\\\n",
      "EmoEvent (En)\t & $mT5^{En}$\t & 30.06 & 14.36 & 2.84 & 10.50\\% & 71.70\\% & 93.64\\% & 0.630 & 0.880 & 0.974 \\\\\n",
      "EmoEvent (En)\t & $mT5^{MAS}$\t & 34.81 & 32.74 & 29.55 & 33.40\\% & 57.06\\% & 69.38\\% & 0.712 & 0.842 & 0.893 \\\\\n",
      "EmoEvent (Es)\t & $mT5^{Es}$\t & 26.13 & 14.52 & 6.41 & 24.29\\% & 70.34\\% & 89.12\\% & 0.713 & 0.882 & 0.955 \\\\\n",
      "EmoEvent (Es)\t & $mT5^{MAS}$\t & 54.93 & 21.54 & 17.80 & 39.75\\% & 82.62\\% & 86.11\\% & 0.750 & 0.918 & 0.935 \\\\\n",
      "\\end{tabular}\n",
      "\n"
     ]
    }
   ],
   "source": [
    "print(all_scores.to_latex())"
   ]
  }
 ],
 "metadata": {
  "kernelspec": {
   "display_name": "Python 3",
   "language": "python",
   "name": "python3"
  },
  "language_info": {
   "codemirror_mode": {
    "name": "ipython",
    "version": 3
   },
   "file_extension": ".py",
   "mimetype": "text/x-python",
   "name": "python",
   "nbconvert_exporter": "python",
   "pygments_lexer": "ipython3",
   "version": "3.8.10"
  }
 },
 "nbformat": 4,
 "nbformat_minor": 5
}
